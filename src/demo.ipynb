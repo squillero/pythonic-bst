{
 "cells": [
  {
   "attachments": {},
   "cell_type": "markdown",
   "metadata": {},
   "source": [
    "> [**Pythonic BST**](https://github.com/squillero/pythonic-bst)  \n",
    "> Copyright © 2022 Giovanni Squillero <<giovanni.squillero@polito.it>>  \n",
    "> SPDX-License-Identifier: `0BSD`"
   ]
  },
  {
   "cell_type": "code",
   "execution_count": 1,
   "metadata": {
    "pycharm": {
     "name": "#%%\n"
    }
   },
   "outputs": [],
   "source": [
    "import logging\n",
    "import random\n",
    "\n",
    "logging.getLogger().setLevel(logging.INFO)"
   ]
  },
  {
   "attachments": {},
   "cell_type": "markdown",
   "metadata": {},
   "source": [
    "# BST X\n",
    "\n",
    "A minimalistic, unbalanced Binary Search Tree in pure Python that supports slicing. The `xbst` works almost like a `dict`, but keys are sorted. All relevant operations are $O(log)$ complexity."
   ]
  },
  {
   "cell_type": "code",
   "execution_count": 2,
   "metadata": {
    "pycharm": {
     "name": "#%%\n"
    }
   },
   "outputs": [
    {
     "data": {
      "text/plain": [
       "'1.0.0'"
      ]
     },
     "execution_count": 2,
     "metadata": {},
     "output_type": "execute_result"
    }
   ],
   "source": [
    "import sys\n",
    "\n",
    "sys.path.append(\"src\")\n",
    "from bst import BST, __version__ as BST_version\n",
    "\n",
    "BST_version"
   ]
  },
  {
   "cell_type": "code",
   "execution_count": 3,
   "metadata": {
    "pycharm": {
     "name": "#%%\n"
    }
   },
   "outputs": [],
   "source": [
    "bst = BST()\n",
    "for n in range(10):\n",
    "    bst[round(random.random(), 2)] = \"R\"\n",
    "for n in [0.1, 0.5, 0.9]:\n",
    "    bst[n] = \"H\""
   ]
  },
  {
   "attachments": {},
   "cell_type": "markdown",
   "metadata": {},
   "source": [
    "Support `keys()`, `values()`, and `items()` like a dict.  "
   ]
  },
  {
   "cell_type": "code",
   "execution_count": 4,
   "metadata": {},
   "outputs": [
    {
     "name": "stdout",
     "output_type": "stream",
     "text": [
      "KEYS  : <generator object BST.keys.<locals>.<genexpr> at 0x105937d10>\n",
      "VALUES: <generator object BST.values.<locals>.<genexpr> at 0x105937d10>\n",
      "ITEMS : <generator object BST._node_iterator at 0x105937ca0>\n"
     ]
    }
   ],
   "source": [
    "print(f\"KEYS  : {bst.keys()}\")\n",
    "print(f\"VALUES: {bst.values()}\")\n",
    "print(f\"ITEMS : {bst.items()}\")"
   ]
  },
  {
   "attachments": {},
   "cell_type": "markdown",
   "metadata": {},
   "source": [
    "The object can be used in `for` loops both as an *iterator* (`iter(foo)`) and a *reverse iterator* (`reversed(foo)`). In both iterators, the data structure is traversed only when needed (i.e., on `next`) with $O(log)$ complexity.  **Notez bien**: iterators yield *items*, not *keys*. "
   ]
  },
  {
   "cell_type": "code",
   "execution_count": 5,
   "metadata": {},
   "outputs": [
    {
     "name": "stdout",
     "output_type": "stream",
     "text": [
      "0.03: R\n",
      "0.1: H\n",
      "0.11: R\n",
      "0.12: R\n",
      "0.17: R\n",
      "0.3: R\n",
      "0.35: R\n",
      "0.4: R\n",
      "0.46: R\n",
      "0.5: H\n",
      "0.57: R\n",
      "0.9: H\n",
      "0.92: R\n"
     ]
    }
   ],
   "source": [
    "for k, v in bst:\n",
    "    print(f\"{k}: {v}\")"
   ]
  },
  {
   "cell_type": "code",
   "execution_count": 6,
   "metadata": {},
   "outputs": [
    {
     "name": "stdout",
     "output_type": "stream",
     "text": [
      "0.92: R\n",
      "0.9: H\n",
      "0.57: R\n",
      "0.5: H\n",
      "0.46: R\n",
      "0.4: R\n",
      "0.35: R\n",
      "0.3: R\n",
      "0.17: R\n",
      "0.12: R\n",
      "0.11: R\n",
      "0.1: H\n",
      "0.03: R\n"
     ]
    }
   ],
   "source": [
    "for k, v in reversed(bst):\n",
    "    print(f\"{k}: {v}\")"
   ]
  },
  {
   "attachments": {},
   "cell_type": "markdown",
   "metadata": {},
   "source": [
    "Slicing is supported, both forward (`step=None` or `step=1`) and backward (`step=-1`). Ranges are *half-open*, i.e., the *start* needs to be an element, the *end* needs not."
   ]
  },
  {
   "cell_type": "code",
   "execution_count": 7,
   "metadata": {},
   "outputs": [
    {
     "name": "stdout",
     "output_type": "stream",
     "text": [
      "FORWARD : [(0.1, 'H'), (0.11, 'R'), (0.12, 'R'), (0.17, 'R'), (0.3, 'R'), (0.35, 'R'), (0.4, 'R'), (0.46, 'R')]\n",
      "BACKWARD: [(0.5, 'H'), (0.46, 'R'), (0.4, 'R'), (0.35, 'R'), (0.3, 'R'), (0.17, 'R'), (0.12, 'R'), (0.11, 'R'), (0.1, 'H'), (0.03, 'R')]\n"
     ]
    }
   ],
   "source": [
    "print(\"FORWARD :\", list(bst[0.1:0.5]))\n",
    "print(\"BACKWARD:\", list(bst[0.5::-1]))"
   ]
  },
  {
   "attachments": {},
   "cell_type": "markdown",
   "metadata": {},
   "source": [
    "Elements can be removed with `del`"
   ]
  },
  {
   "cell_type": "code",
   "execution_count": 8,
   "metadata": {},
   "outputs": [
    {
     "name": "stdout",
     "output_type": "stream",
     "text": [
      "Number of elements: 13\n",
      "Number of elements: 12\n"
     ]
    }
   ],
   "source": [
    "print(f\"Number of elements: {len(bst)}\")\n",
    "del bst[0.5]\n",
    "print(f\"Number of elements: {len(bst)}\")"
   ]
  },
  {
   "cell_type": "code",
   "execution_count": 9,
   "metadata": {},
   "outputs": [
    {
     "name": "stdout",
     "output_type": "stream",
     "text": [
      "BST with 1,000,000 nodes; height = 53; density = 50%; unbalance = 85%\n",
      "BST with 1,000,000 nodes; height = 20; density = 91%; unbalance = 5%\n"
     ]
    }
   ],
   "source": [
    "bst = BST()\n",
    "for n in range(1_000_000):\n",
    "    bst[random.random()] = n\n",
    "print(\n",
    "    f\"BST with {len(bst):,} nodes; \"\n",
    "    + f\"height = {bst.height}; \"\n",
    "    + f\"density = {100 * bst.density:.0f}%; \"\n",
    "    + f\"unbalance = {100 * bst.unbalance:.0f}%\"\n",
    ")\n",
    "bst = BST(bst)\n",
    "print(\n",
    "    f\"BST with {len(bst):,} nodes; \"\n",
    "    + f\"height = {bst.height}; \"\n",
    "    + f\"density = {100 * bst.density:.0f}%; \"\n",
    "    + f\"unbalance = {100 * bst.unbalance:.0f}%\"\n",
    ")"
   ]
  },
  {
   "cell_type": "code",
   "execution_count": 12,
   "metadata": {},
   "outputs": [
    {
     "data": {
      "text/plain": [
       "(49, 0.4997143041393656, 0.8775510204081632)"
      ]
     },
     "execution_count": 12,
     "metadata": {},
     "output_type": "execute_result"
    }
   ],
   "source": [
    "foo = BST()\n",
    "for n in range(1_000_000):\n",
    "    foo[random.random()] = n\n",
    "foo.height, foo.density, foo.unbalance"
   ]
  },
  {
   "cell_type": "code",
   "execution_count": 14,
   "metadata": {},
   "outputs": [
    {
     "data": {
      "text/plain": [
       "(20, 0.9073503634459752, 0.05)"
      ]
     },
     "execution_count": 14,
     "metadata": {},
     "output_type": "execute_result"
    }
   ],
   "source": [
    "bar = BST(foo)\n",
    "bar.height, bar.density, bar.unbalance"
   ]
  },
  {
   "cell_type": "code",
   "execution_count": null,
   "metadata": {},
   "outputs": [],
   "source": []
  }
 ],
 "metadata": {
  "kernelspec": {
   "display_name": "zen",
   "language": "python",
   "name": "python3"
  },
  "language_info": {
   "codemirror_mode": {
    "name": "ipython",
    "version": 3
   },
   "file_extension": ".py",
   "mimetype": "text/x-python",
   "name": "python",
   "nbconvert_exporter": "python",
   "pygments_lexer": "ipython3",
   "version": "3.10.9"
  },
  "orig_nbformat": 4,
  "vscode": {
   "interpreter": {
    "hash": "859e6971facad122625bd86f58e2643efc7b0c9dc17890ef4f4b29333bd4363a"
   }
  }
 },
 "nbformat": 4,
 "nbformat_minor": 2
}
