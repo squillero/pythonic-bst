{
 "cells": [
  {
   "attachments": {},
   "cell_type": "markdown",
   "metadata": {},
   "source": [
    "> [**Pythonic BST**](https://github.com/squillero/pythonic-bst)  \n",
    "> Copyright © 2022 Giovanni Squillero <<giovanni.squillero@polito.it>>  \n",
    "> SPDX-License-Identifier: `0BSD`"
   ]
  },
  {
   "cell_type": "code",
   "execution_count": 1,
   "metadata": {
    "pycharm": {
     "name": "#%%\n"
    }
   },
   "outputs": [],
   "source": [
    "import logging\n",
    "import random\n",
    "\n",
    "logging.getLogger().setLevel(logging.INFO)"
   ]
  },
  {
   "attachments": {},
   "cell_type": "markdown",
   "metadata": {},
   "source": [
    "# BST X\n",
    "\n",
    "A minimalistic, unbalanced Binary Search Tree in pure Python that supports slicing. The `xbst` works almost like a `dict`, but keys are sorted. All relevant operations are $O(log)$ complexity."
   ]
  },
  {
   "cell_type": "code",
   "execution_count": 2,
   "metadata": {
    "pycharm": {
     "name": "#%%\n"
    }
   },
   "outputs": [
    {
     "data": {
      "text/plain": [
       "'1.0.0'"
      ]
     },
     "execution_count": 2,
     "metadata": {},
     "output_type": "execute_result"
    }
   ],
   "source": [
    "import sys\n",
    "\n",
    "sys.path.append(\"src\")\n",
    "from bst import BST, __version__ as BST_version\n",
    "BST_version"
   ]
  },
  {
   "cell_type": "code",
   "execution_count": 4,
   "metadata": {
    "pycharm": {
     "name": "#%%\n"
    }
   },
   "outputs": [],
   "source": [
    "bst = BST()\n",
    "for n in range(10):\n",
    "    bst[round(random.random(), 2)] = \"R\"\n",
    "for n in [0.1, 0.5, 0.9]:\n",
    "    bst[n] = \"H\""
   ]
  },
  {
   "attachments": {},
   "cell_type": "markdown",
   "metadata": {},
   "source": [
    "Support `keys()`, `values()`, and `items()` like a dict.  "
   ]
  },
  {
   "cell_type": "code",
   "execution_count": 5,
   "metadata": {},
   "outputs": [
    {
     "name": "stdout",
     "output_type": "stream",
     "text": [
      "KEYS  : <generator object BST.keys.<locals>.<genexpr> at 0x108118f20>\n",
      "VALUES: <generator object BST.values.<locals>.<genexpr> at 0x108118f20>\n",
      "ITEMS : <generator object BST._node_iterator at 0x108118350>\n"
     ]
    }
   ],
   "source": [
    "print(f\"KEYS  : {bst.keys()}\")\n",
    "print(f\"VALUES: {bst.values()}\")\n",
    "print(f\"ITEMS : {bst.items()}\")"
   ]
  },
  {
   "attachments": {},
   "cell_type": "markdown",
   "metadata": {},
   "source": [
    "The object can be used in `for` loops both as an *iterator* (`iter(foo)`) and a *reverse iterator* (`reversed(foo)`). In both iterators, the data structure is traversed only when needed (i.e., on `next`) with $O(log)$ complexity.  **Notez bien**: iterators yield *items*, not *keys*. "
   ]
  },
  {
   "cell_type": "code",
   "execution_count": 6,
   "metadata": {},
   "outputs": [
    {
     "name": "stdout",
     "output_type": "stream",
     "text": [
      "0.04: R\n",
      "0.1: H\n",
      "0.12: R\n",
      "0.23: R\n",
      "0.24: R\n",
      "0.33: R\n",
      "0.34: R\n",
      "0.45: R\n",
      "0.5: H\n",
      "0.55: R\n",
      "0.67: R\n",
      "0.82: R\n",
      "0.9: H\n"
     ]
    }
   ],
   "source": [
    "for k, v in bst:\n",
    "    print(f\"{k}: {v}\")"
   ]
  },
  {
   "cell_type": "code",
   "execution_count": 7,
   "metadata": {},
   "outputs": [
    {
     "name": "stdout",
     "output_type": "stream",
     "text": [
      "0.9: H\n",
      "0.82: R\n",
      "0.67: R\n",
      "0.55: R\n",
      "0.5: H\n",
      "0.45: R\n",
      "0.34: R\n",
      "0.33: R\n",
      "0.24: R\n",
      "0.23: R\n",
      "0.12: R\n",
      "0.1: H\n",
      "0.04: R\n"
     ]
    }
   ],
   "source": [
    "for k, v in reversed(bst):\n",
    "    print(f\"{k}: {v}\")"
   ]
  },
  {
   "attachments": {},
   "cell_type": "markdown",
   "metadata": {},
   "source": [
    "Slicing is supported, both forward (`step=None` or `step=1`) and backward (`step=-1`). Ranges are *half-open*, i.e., the *start* needs to be an element, the *end* needs not."
   ]
  },
  {
   "cell_type": "code",
   "execution_count": 8,
   "metadata": {},
   "outputs": [
    {
     "name": "stdout",
     "output_type": "stream",
     "text": [
      "FORWARD : [(0.1, 'H'), (0.12, 'R'), (0.23, 'R'), (0.24, 'R'), (0.33, 'R'), (0.34, 'R'), (0.45, 'R')]\n",
      "BACKWARD: [(0.5, 'H'), (0.45, 'R'), (0.34, 'R'), (0.33, 'R'), (0.24, 'R'), (0.23, 'R'), (0.12, 'R'), (0.1, 'H'), (0.04, 'R')]\n"
     ]
    }
   ],
   "source": [
    "print(\"FORWARD :\", list(bst[0.1:0.5]))\n",
    "print(\"BACKWARD:\", list(bst[0.5::-1]))"
   ]
  },
  {
   "attachments": {},
   "cell_type": "markdown",
   "metadata": {},
   "source": [
    "Elements can be removed with `del`"
   ]
  },
  {
   "cell_type": "code",
   "execution_count": 9,
   "metadata": {},
   "outputs": [
    {
     "name": "stdout",
     "output_type": "stream",
     "text": [
      "Number of elements: 13\n",
      "Number of elements: 12\n"
     ]
    }
   ],
   "source": [
    "print(f\"Number of elements: {len(bst)}\")\n",
    "del bst[0.5]\n",
    "print(f\"Number of elements: {len(bst)}\")"
   ]
  },
  {
   "cell_type": "code",
   "execution_count": 11,
   "metadata": {},
   "outputs": [
    {
     "name": "stdout",
     "output_type": "stream",
     "text": [
      "Density: 0.0 / Unbalance: 0.96875\n",
      "Density: 0.9375 / Unbalance: 0.16666666666666666\n"
     ]
    }
   ],
   "source": [
    "logging.getLogger().setLevel(logging.DEBUG)\n",
    "bst = BST()\n",
    "for n in range(32):\n",
    "    bst[n] = n\n",
    "print(f\"Density: {bst.density} / Unbalance: {bst.unbalance}\")\n",
    "bst = BST(bst)\n",
    "print(f\"Density: {bst.density} / Unbalance: {bst.unbalance}\")"
   ]
  },
  {
   "cell_type": "code",
   "execution_count": 12,
   "metadata": {},
   "outputs": [
    {
     "data": {
      "text/plain": [
       "(0.5002227833061043, 0.88)"
      ]
     },
     "execution_count": 12,
     "metadata": {},
     "output_type": "execute_result"
    }
   ],
   "source": [
    "bst = BST()\n",
    "for n in range(1_000_000):\n",
    "    bst[random.random()] = n\n",
    "bst.density, bst.unbalance"
   ]
  },
  {
   "cell_type": "code",
   "execution_count": 13,
   "metadata": {},
   "outputs": [
    {
     "data": {
      "text/plain": [
       "(0.9073503634459752, 0.05)"
      ]
     },
     "execution_count": 13,
     "metadata": {},
     "output_type": "execute_result"
    }
   ],
   "source": [
    "opt_bst = BST(bst)\n",
    "opt_bst.density, opt_bst.unbalance"
   ]
  },
  {
   "cell_type": "code",
   "execution_count": null,
   "metadata": {},
   "outputs": [],
   "source": []
  }
 ],
 "metadata": {
  "kernelspec": {
   "display_name": "zen",
   "language": "python",
   "name": "python3"
  },
  "language_info": {
   "codemirror_mode": {
    "name": "ipython",
    "version": 3
   },
   "file_extension": ".py",
   "mimetype": "text/x-python",
   "name": "python",
   "nbconvert_exporter": "python",
   "pygments_lexer": "ipython3",
   "version": "3.10.9"
  },
  "orig_nbformat": 4,
  "vscode": {
   "interpreter": {
    "hash": "859e6971facad122625bd86f58e2643efc7b0c9dc17890ef4f4b29333bd4363a"
   }
  }
 },
 "nbformat": 4,
 "nbformat_minor": 2
}
